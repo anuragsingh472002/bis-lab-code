{
  "nbformat": 4,
  "nbformat_minor": 0,
  "metadata": {
    "colab": {
      "provenance": [],
      "authorship_tag": "ABX9TyMfnPx74kp5nrG5zbVzlAfU",
      "include_colab_link": true
    },
    "kernelspec": {
      "name": "python3",
      "display_name": "Python 3"
    },
    "language_info": {
      "name": "python"
    }
  },
  "cells": [
    {
      "cell_type": "markdown",
      "metadata": {
        "id": "view-in-github",
        "colab_type": "text"
      },
      "source": [
        "<a href=\"https://colab.research.google.com/github/anuragsingh472002/bis-lab-code/blob/main/Anut_colony.ipynb\" target=\"_parent\"><img src=\"https://colab.research.google.com/assets/colab-badge.svg\" alt=\"Open In Colab\"/></a>"
      ]
    },
    {
      "cell_type": "code",
      "execution_count": 1,
      "metadata": {
        "colab": {
          "base_uri": "https://localhost:8080/"
        },
        "id": "G0hvQeb7paOq",
        "outputId": "df431b6b-5843-4a3d-b5d6-3a964e0601fa"
      },
      "outputs": [
        {
          "output_type": "stream",
          "name": "stdout",
          "text": [
            "Best route: [1, 4, 3, 2, 0, 1]\n",
            "Best distance: 9\n"
          ]
        }
      ],
      "source": [
        "import numpy as np\n",
        "import random\n",
        "\n",
        "class AntColony:\n",
        "    def __init__(self, distances, n_ants, n_iterations, alpha=1, beta=2, evaporation_rate=0.5, pheromone_constant=100):\n",
        "        self.distances = distances\n",
        "        self.n_ants = n_ants\n",
        "        self.n_iterations = n_iterations\n",
        "        self.alpha = alpha\n",
        "        self.beta = beta\n",
        "        self.evaporation_rate = evaporation_rate\n",
        "        self.pheromone_constant = pheromone_constant\n",
        "\n",
        "        self.n_cities = len(distances)\n",
        "        self.pheromone = np.ones((self.n_cities, self.n_cities))\n",
        "\n",
        "    def run(self):\n",
        "        best_route = None\n",
        "        best_distance = float('inf')\n",
        "\n",
        "        for iteration in range(self.n_iterations):\n",
        "            all_routes = []\n",
        "            all_distances = []\n",
        "\n",
        "            for ant in range(self.n_ants):\n",
        "                route, distance = self._construct_solution()\n",
        "                all_routes.append(route)\n",
        "                all_distances.append(distance)\n",
        "\n",
        "                if distance < best_distance:\n",
        "                    best_route = route\n",
        "                    best_distance = distance\n",
        "\n",
        "            self._update_pheromone(all_routes, all_distances)\n",
        "\n",
        "        return best_route, best_distance\n",
        "\n",
        "    def _construct_solution(self):\n",
        "        route = []\n",
        "        visited = set()\n",
        "        current_city = random.randint(0, self.n_cities - 1)\n",
        "        route.append(current_city)\n",
        "        visited.add(current_city)\n",
        "\n",
        "        while len(visited) < self.n_cities:\n",
        "            probabilities = self._calculate_probabilities(current_city, visited)\n",
        "            next_city = self._select_next_city(probabilities)\n",
        "            route.append(next_city)\n",
        "            visited.add(next_city)\n",
        "            current_city = next_city\n",
        "\n",
        "        route.append(route[0])  # Return to start\n",
        "        distance = self._calculate_route_distance(route)\n",
        "        return route, distance\n",
        "\n",
        "    def _calculate_probabilities(self, current_city, visited):\n",
        "        probabilities = []\n",
        "        pheromone = self.pheromone[current_city]\n",
        "        distances = self.distances[current_city]\n",
        "\n",
        "        for city in range(self.n_cities):\n",
        "            if city in visited:\n",
        "                probabilities.append(0)\n",
        "            else:\n",
        "                probabilities.append((pheromone[city] ** self.alpha) * ((1.0 / distances[city]) ** self.beta))\n",
        "\n",
        "        total = sum(probabilities)\n",
        "        probabilities = [p / total if total > 0 else 0 for p in probabilities]\n",
        "        return probabilities\n",
        "\n",
        "    def _select_next_city(self, probabilities):\n",
        "        return np.random.choice(range(self.n_cities), p=probabilities)\n",
        "\n",
        "    def _calculate_route_distance(self, route):\n",
        "        distance = 0\n",
        "        for i in range(len(route) - 1):\n",
        "            distance += self.distances[route[i]][route[i + 1]]\n",
        "        return distance\n",
        "\n",
        "    def _update_pheromone(self, all_routes, all_distances):\n",
        "        self.pheromone *= (1 - self.evaporation_rate)\n",
        "\n",
        "        for route, distance in zip(all_routes, all_distances):\n",
        "            for i in range(len(route) - 1):\n",
        "                self.pheromone[route[i]][route[i + 1]] += self.pheromone_constant / distance\n",
        "                self.pheromone[route[i + 1]][route[i]] += self.pheromone_constant / distance\n",
        "\n",
        "if __name__ == \"__main__\":\n",
        "    distances = np.array([\n",
        "        [0, 2, 2, 5, 7],\n",
        "        [2, 0, 4, 8, 2],\n",
        "        [2, 4, 0, 1, 3],\n",
        "        [5, 8, 1, 0, 2],\n",
        "        [7, 2, 3, 2, 0]\n",
        "    ])\n",
        "\n",
        "    colony = AntColony(distances, n_ants=10, n_iterations=100, alpha=1, beta=2, evaporation_rate=0.5, pheromone_constant=100)\n",
        "    best_route, best_distance = colony.run()\n",
        "\n",
        "    print(f\"Best route: {best_route}\")\n",
        "    print(f\"Best distance: {best_distance}\")\n"
      ]
    }
  ]
}