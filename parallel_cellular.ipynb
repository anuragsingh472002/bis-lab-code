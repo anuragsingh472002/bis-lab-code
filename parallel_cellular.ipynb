{
  "nbformat": 4,
  "nbformat_minor": 0,
  "metadata": {
    "colab": {
      "provenance": [],
      "authorship_tag": "ABX9TyPRrsS9ju62mE7MujvA7o9s",
      "include_colab_link": true
    },
    "kernelspec": {
      "name": "python3",
      "display_name": "Python 3"
    },
    "language_info": {
      "name": "python"
    }
  },
  "cells": [
    {
      "cell_type": "markdown",
      "metadata": {
        "id": "view-in-github",
        "colab_type": "text"
      },
      "source": [
        "<a href=\"https://colab.research.google.com/github/anuragsingh472002/bis-lab-code/blob/main/parallel_cellular.ipynb\" target=\"_parent\"><img src=\"https://colab.research.google.com/assets/colab-badge.svg\" alt=\"Open In Colab\"/></a>"
      ]
    },
    {
      "cell_type": "code",
      "execution_count": 1,
      "metadata": {
        "id": "ExFDth03rkIk",
        "colab": {
          "base_uri": "https://localhost:8080/"
        },
        "outputId": "867ca322-652a-4e13-f44d-40bc937031c6"
      },
      "outputs": [
        {
          "output_type": "stream",
          "name": "stdout",
          "text": [
            "Initial Grid:\n",
            "[[0 1 0 0 0]\n",
            " [0 0 1 0 0]\n",
            " [1 1 1 0 0]\n",
            " [0 0 0 0 0]\n",
            " [0 0 0 0 0]]\n",
            "Final Grid:\n",
            "[[0 0 0 1 1]\n",
            " [0 0 0 0 0]\n",
            " [0 0 0 0 0]\n",
            " [0 0 0 0 1]\n",
            " [0 0 1 0 1]]\n"
          ]
        }
      ],
      "source": [
        "import numpy as np\n",
        "from multiprocessing import Pool\n",
        "\n",
        "def update_cell(args):\n",
        "    grid, x, y = args\n",
        "    neighbors = [\n",
        "        grid[(x - 1) % grid.shape[0], (y - 1) % grid.shape[1]],\n",
        "        grid[(x - 1) % grid.shape[0], y],\n",
        "        grid[(x - 1) % grid.shape[0], (y + 1) % grid.shape[1]],\n",
        "        grid[x, (y - 1) % grid.shape[1]],\n",
        "        grid[x, (y + 1) % grid.shape[1]],\n",
        "        grid[(x + 1) % grid.shape[0], (y - 1) % grid.shape[1]],\n",
        "        grid[(x + 1) % grid.shape[0], y],\n",
        "        grid[(x + 1) % grid.shape[0], (y + 1) % grid.shape[1]]\n",
        "    ]\n",
        "    alive_neighbors = sum(neighbors)\n",
        "\n",
        "    if grid[x, y] == 1:  # Alive cell\n",
        "        if alive_neighbors < 2 or alive_neighbors > 3:\n",
        "            return 0  # Dies\n",
        "        else:\n",
        "            return 1  # Lives\n",
        "    else:  # Dead cell\n",
        "        if alive_neighbors == 3:\n",
        "            return 1  # Becomes alive\n",
        "        else:\n",
        "            return 0  # Stays dead\n",
        "\n",
        "def parallel_step(grid):\n",
        "    with Pool() as pool:\n",
        "        args = [(grid, x, y) for x in range(grid.shape[0]) for y in range(grid.shape[1])]\n",
        "        results = pool.map(update_cell, args)\n",
        "\n",
        "    new_grid = np.array(results).reshape(grid.shape)\n",
        "    return new_grid\n",
        "\n",
        "def run_simulation(grid, steps):\n",
        "    for _ in range(steps):\n",
        "        grid = parallel_step(grid)\n",
        "    return grid\n",
        "\n",
        "if __name__ == \"__main__\":\n",
        "    # Example: Game of Life grid\n",
        "    grid = np.array([\n",
        "        [0, 1, 0, 0, 0],\n",
        "        [0, 0, 1, 0, 0],\n",
        "        [1, 1, 1, 0, 0],\n",
        "        [0, 0, 0, 0, 0],\n",
        "        [0, 0, 0, 0, 0]\n",
        "    ])\n",
        "\n",
        "    steps = 10\n",
        "    print(\"Initial Grid:\")\n",
        "    print(grid)\n",
        "\n",
        "    grid = run_simulation(grid, steps)\n",
        "\n",
        "    print(\"Final Grid:\")\n",
        "    print(grid)\n"
      ]
    }
  ]
}